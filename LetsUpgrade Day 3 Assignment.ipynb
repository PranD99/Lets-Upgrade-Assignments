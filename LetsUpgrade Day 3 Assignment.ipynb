{
 "cells": [
  {
   "cell_type": "code",
   "execution_count": 1,
   "metadata": {},
   "outputs": [
    {
     "data": {
      "text/plain": [
       "array([ 2,  5,  8, 11, 14, 17, 20, 23, 26, 29, 32, 35, 38, 41, 44, 47])"
      ]
     },
     "execution_count": 1,
     "metadata": {},
     "output_type": "execute_result"
    }
   ],
   "source": [
    "#Question 1. Create a numpy array starting from 2 till 50 with a stepsize of 3.\n",
    "import numpy as np\n",
    "np.arange(start=2, stop=50, step=3)"
   ]
  },
  {
   "cell_type": "code",
   "execution_count": 7,
   "metadata": {},
   "outputs": [
    {
     "name": "stdout",
     "output_type": "stream",
     "text": [
      "5\n",
      "3\n",
      "4\n",
      "2\n",
      "1\n",
      "10\n",
      "7\n",
      "8\n",
      "6\n",
      "9\n",
      "[ 5  3  4  2  1 10  7  8  6  9]\n",
      "[1 2 3 4 5]\n",
      "[ 6  7  8  9 10]\n"
     ]
    }
   ],
   "source": [
    "#Question 2. Accept two lists of 5 elements each from the user.\n",
    "#Convert them to numpy arrays. Concatenate these arrays and print it. Also sort these arrays and print them\n",
    "l1,l2=[],[]\n",
    "for i in range(5):\n",
    "    l = input()\n",
    "    l1.append(int(l))\n",
    "for i in range(5):\n",
    "    m=input()\n",
    "    l2.append(int(m))\n",
    "a=np.array(l1)\n",
    "b=np.array(l2)\n",
    "c=np.concatenate((a,b))\n",
    "print(c)\n",
    "a1=np.sort(a,axis=None)\n",
    "b1=np.sort(b,axis=None)\n",
    "print(a1)\n",
    "print(b1)"
   ]
  },
  {
   "cell_type": "code",
   "execution_count": 8,
   "metadata": {},
   "outputs": [
    {
     "name": "stdout",
     "output_type": "stream",
     "text": [
      "Array is of type:  <class 'numpy.ndarray'>\n",
      "No. of dimensions:  2\n",
      "Shape of array:  (2, 3)\n",
      "Size of array:  6\n"
     ]
    }
   ],
   "source": [
    "#Question 3 Write a code snippet to find the dimensions of a ndarray and its size.\n",
    "arr = np.array( [[ 1, 2, 3],\n",
    "                 [ 4, 9, 5]])\n",
    "print(\"Array is of type: \", type(arr))\n",
    "print(\"No. of dimensions: \", arr.ndim)\n",
    "print(\"Shape of array: \", arr.shape)\n",
    "print(\"Size of array: \", arr.size)"
   ]
  },
  {
   "cell_type": "code",
   "execution_count": 15,
   "metadata": {},
   "outputs": [
    {
     "name": "stdout",
     "output_type": "stream",
     "text": [
      "[ 1  2  3  7 89 62]\n",
      "[[ 1  2]\n",
      " [ 3  7]\n",
      " [89 62]]\n"
     ]
    }
   ],
   "source": [
    "#Question 4. How to convert a 1D array into a 2D array? Demonstrate with the help of a code snippet\n",
    "A = np.array([1,2,3,7,89,62])\n",
    "B = np.reshape(A, (3, 2))\n",
    "print(A)\n",
    "print(B)"
   ]
  },
  {
   "cell_type": "code",
   "execution_count": 16,
   "metadata": {},
   "outputs": [
    {
     "name": "stdout",
     "output_type": "stream",
     "text": [
      "Vertical stacking:\n",
      " [[11 24]\n",
      " [36 47]\n",
      " [51 62]\n",
      " [70 86]]\n",
      "\n",
      "Horizontal stacking:\n",
      " [[11 24 51 62]\n",
      " [36 47 70 86]]\n"
     ]
    }
   ],
   "source": [
    "#Question 5. Consider two square numpy arrays. Stack them vertically and horizontally.\n",
    "a = np.array([[11, 24], \n",
    "              [36, 47]]) \n",
    "  \n",
    "b = np.array([[51, 62], \n",
    "              [70, 86]]) \n",
    "print(\"Vertical stacking:\\n\", np.vstack((a, b)))\n",
    "print(\"\\nHorizontal stacking:\\n\", np.hstack((a, b)))"
   ]
  },
  {
   "cell_type": "code",
   "execution_count": 23,
   "metadata": {},
   "outputs": [
    {
     "name": "stdout",
     "output_type": "stream",
     "text": [
      "Element : Count\n",
      "1 : 4\n",
      "2 : 5\n",
      "3 : 2\n",
      "4 : 2\n",
      "5 : 2\n",
      "6 : 1\n"
     ]
    }
   ],
   "source": [
    "#Question 6. How to get unique items and counts of unique items?\n",
    "items = np.array([1,2,3,4,5,1,2,1,2,4,5,6,2,2,3,1])\n",
    "(unique, counts) = np.unique(items, return_counts=True)\n",
    "frequencies = np.asarray((unique, counts)).T\n",
    "print(f'Element : Count')\n",
    "for i in frequencies:\n",
    "    print(f'{i[0]} : {i[1]}')\n"
   ]
  },
  {
   "cell_type": "code",
   "execution_count": null,
   "metadata": {},
   "outputs": [],
   "source": []
  }
 ],
 "metadata": {
  "kernelspec": {
   "display_name": "Python 3",
   "language": "python",
   "name": "python3"
  },
  "language_info": {
   "codemirror_mode": {
    "name": "ipython",
    "version": 3
   },
   "file_extension": ".py",
   "mimetype": "text/x-python",
   "name": "python",
   "nbconvert_exporter": "python",
   "pygments_lexer": "ipython3",
   "version": "3.7.6"
  }
 },
 "nbformat": 4,
 "nbformat_minor": 4
}
