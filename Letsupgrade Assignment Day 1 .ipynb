{
 "cells": [
  {
   "cell_type": "markdown",
   "metadata": {},
   "source": [
    "\n",
    "# Assignment Day 1| 6th November 2020\n"
   ]
  },
  {
   "cell_type": "code",
   "execution_count": 2,
   "metadata": {},
   "outputs": [
    {
     "name": "stdout",
     "output_type": "stream",
     "text": [
      "RAINBOW\n"
     ]
    }
   ],
   "source": [
    "### Given the following jumbled word, OBANWRI guess the correct English word.\n",
    "\n",
    "## Here, I downloaded a dictionary file as a text file which contains all the valid englosh words. Then, I checked if each word in the option is present in dictionary and printed the word\n",
    "list_ = open(\"dictionary words.txt\").read().split()\n",
    "l = ['RANIBOW','RAINBOW','BOWRANI','ROBWANI']\n",
    "for i in l:\n",
    "    if i.lower() in list_:\n",
    "        print(i)\n",
    "        break\n"
   ]
  },
  {
   "cell_type": "code",
   "execution_count": 2,
   "metadata": {},
   "outputs": [
    {
     "name": "stdout",
     "output_type": "stream",
     "text": [
      "Lets Upgrade\n",
      "LETS UPGRADE\n"
     ]
    }
   ],
   "source": [
    "##Write a program which prints “LETS UPGRADE”. (Please note that you have to\n",
    "##print in ALL CAPS as given)\n",
    "\n",
    "s = input()\n",
    "print(s.upper())\n"
   ]
  },
  {
   "cell_type": "code",
   "execution_count": 3,
   "metadata": {},
   "outputs": [
    {
     "name": "stdout",
     "output_type": "stream",
     "text": [
      "20\n",
      "30\n",
      "Gain\n"
     ]
    }
   ],
   "source": [
    "##Write a program that takes cost price and selling price as input and displays whether the transaction is a\n",
    "##Profit or a Loss or Neither.\n",
    "\n",
    "CP = int(input())\n",
    "SP = int(input())\n",
    "if CP-SP==0:\n",
    "    print('Neither')\n",
    "elif CP>SP:\n",
    "    print('Loss')\n",
    "else:\n",
    "    print('Gain')\n",
    "    "
   ]
  },
  {
   "cell_type": "code",
   "execution_count": 3,
   "metadata": {},
   "outputs": [
    {
     "name": "stdout",
     "output_type": "stream",
     "text": [
      "20\n",
      "1600\n"
     ]
    }
   ],
   "source": [
    "##Write a program that takes an amount in Euros as input. You need to find its equivalent\n",
    "##in Indian Rupees and display it. Assume 1 Euro equals Rs. 80.\n",
    "\n",
    "eu = int(input())\n",
    "print(eu*80)"
   ]
  },
  {
   "cell_type": "code",
   "execution_count": null,
   "metadata": {},
   "outputs": [],
   "source": []
  }
 ],
 "metadata": {
  "kernelspec": {
   "display_name": "Python 3",
   "language": "python",
   "name": "python3"
  },
  "language_info": {
   "codemirror_mode": {
    "name": "ipython",
    "version": 3
   },
   "file_extension": ".py",
   "mimetype": "text/x-python",
   "name": "python",
   "nbconvert_exporter": "python",
   "pygments_lexer": "ipython3",
   "version": "3.7.6"
  }
 },
 "nbformat": 4,
 "nbformat_minor": 4
}
