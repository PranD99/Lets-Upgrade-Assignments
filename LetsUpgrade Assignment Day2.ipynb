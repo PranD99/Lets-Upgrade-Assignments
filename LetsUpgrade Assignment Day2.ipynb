{
 "cells": [
  {
   "cell_type": "code",
   "execution_count": 1,
   "metadata": {},
   "outputs": [
    {
     "name": "stdout",
     "output_type": "stream",
     "text": [
      "1\n",
      "4\n",
      "5\n",
      "6\n",
      "2\n",
      "78\n",
      "99\n",
      "22\n",
      "35\n",
      "65\n",
      "[4, 6, 2, 78, 22]\n"
     ]
    }
   ],
   "source": [
    "#Question 1. Create an empty list and take input for ten numbers and append to list if numbers are even.\n",
    "l = []\n",
    "for i in range(10):\n",
    "    n = int(input())\n",
    "    if n%2==0:\n",
    "        l.append(n)\n",
    "    else:\n",
    "        continue\n",
    "print(l)"
   ]
  },
  {
   "cell_type": "code",
   "execution_count": 8,
   "metadata": {},
   "outputs": [
    {
     "name": "stdout",
     "output_type": "stream",
     "text": [
      "[1, 2, 3, 4, 6, 7, 9, 11, 77]\n",
      "[1, 3, 5, 7, 9, 11]\n"
     ]
    }
   ],
   "source": [
    "##Question 2. Create a notebook on LIST COMPREHENSION. Perform odd operation on it, add an element, delete an element, display maximum value\n",
    "list1 = [1,2,3,4,5,6,7,9,11]\n",
    "oddlist = [i for i in list1 if i%2==1]\n",
    "list1.append(77)\n",
    "list1.pop(4)\n",
    "print(list1)\n",
    "print(oddlist)\n"
   ]
  },
  {
   "cell_type": "code",
   "execution_count": 4,
   "metadata": {},
   "outputs": [
    {
     "name": "stdout",
     "output_type": "stream",
     "text": [
      "4\n",
      "{1: 1, 2: 4, 3: 9, 4: 16}\n"
     ]
    }
   ],
   "source": [
    "#Question 3. given a number n, you have to write a program that generates a dictionary d which\n",
    "#contains (i, i*i), where i is from 1 to n (both included). Print the dictionary\n",
    "\n",
    "n = int(input())\n",
    "d={}\n",
    "for i in range(1,n+1):\n",
    "    d[i]=i*i\n",
    "print(d)\n",
    "    \n",
    "    "
   ]
  },
  {
   "cell_type": "code",
   "execution_count": 5,
   "metadata": {},
   "outputs": [
    {
     "name": "stdout",
     "output_type": "stream",
     "text": [
      "4\n",
      "UP 5\n",
      "DOWN 3\n",
      "LEFT 3\n",
      "RIGHT 2\n",
      "2\n"
     ]
    }
   ],
   "source": [
    "##Question 4: There is a robot which wants to go the charging point to charge itself.\n",
    "#The robot moves in a 2-D plane from the original point (0,0). The robot can\n",
    "#move toward UP, DOWN, LEFT and RIGHT with given steps.\n",
    "\n",
    "import math\n",
    "n = int(input())\n",
    "x,y =0,0\n",
    "l1=[]\n",
    "for i in range(n):\n",
    "    dirs = input().split()\n",
    "    l1.append(dirs)\n",
    "for i in l1:\n",
    "  if i[0]=='UP':\n",
    "    x,y=x,y+int(i[1])\n",
    "  elif i[0]=='DOWN':\n",
    "    x,y=x,y-int(i[1])\n",
    "  elif i[0]=='LEFT':\n",
    "    x,y=x-int(i[1]),y\n",
    "  elif i[0]=='RIGHT':\n",
    "    x,y=x+int(i[1]),y\n",
    "di=pow(x,2)+pow(y,2)\n",
    "sdi=math.sqrt(di)\n",
    "print(round(sdi))"
   ]
  },
  {
   "cell_type": "code",
   "execution_count": null,
   "metadata": {},
   "outputs": [],
   "source": []
  }
 ],
 "metadata": {
  "kernelspec": {
   "display_name": "Python 3",
   "language": "python",
   "name": "python3"
  },
  "language_info": {
   "codemirror_mode": {
    "name": "ipython",
    "version": 3
   },
   "file_extension": ".py",
   "mimetype": "text/x-python",
   "name": "python",
   "nbconvert_exporter": "python",
   "pygments_lexer": "ipython3",
   "version": "3.7.6"
  }
 },
 "nbformat": 4,
 "nbformat_minor": 4
}
